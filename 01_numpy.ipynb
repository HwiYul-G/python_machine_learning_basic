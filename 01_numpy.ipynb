{
 "cells": [
  {
   "cell_type": "code",
   "execution_count": 2,
   "metadata": {},
   "outputs": [],
   "source": [
    "import numpy as np"
   ]
  },
  {
   "cell_type": "code",
   "execution_count": 3,
   "metadata": {},
   "outputs": [
    {
     "name": "stdout",
     "output_type": "stream",
     "text": [
      "arr1 type :  <class 'numpy.ndarray'>\n",
      "arr1 array 형태 :  (3,)\n",
      "arr2 type :  <class 'numpy.ndarray'>\n",
      "arr2 array 형태 :  (2, 3)\n",
      "arr3 type :  <class 'numpy.ndarray'>\n",
      "arr3 array 형태 :  (1, 3)\n"
     ]
    }
   ],
   "source": [
    "arr1 = np.array([1,2,3])\n",
    "print('arr1 type : ', type(arr1))\n",
    "print('arr1 array 형태 : ', arr1.shape)\n",
    "\n",
    "arr2 = np.array([[1,2,3], \n",
    "                [4,5,6]])\n",
    "print('arr2 type : ', type(arr2))\n",
    "print('arr2 array 형태 : ', arr2.shape)\n",
    "\n",
    "arr3 = np.array([[1,2,3]])\n",
    "print('arr3 type : ', type(arr3))\n",
    "print('arr3 array 형태 : ', arr3.shape)"
   ]
  },
  {
   "cell_type": "code",
   "execution_count": 4,
   "metadata": {},
   "outputs": [
    {
     "name": "stdout",
     "output_type": "stream",
     "text": [
      "arr1 : 1차원, arr2: 2차원, arr3:  2차원\n"
     ]
    }
   ],
   "source": [
    "print('arr1 : {:0}차원, arr2: {:1}차원, arr3: {:2}차원'.format(arr1.ndim, arr2.ndim, arr3.ndim))"
   ]
  },
  {
   "cell_type": "code",
   "execution_count": 5,
   "metadata": {},
   "outputs": [
    {
     "name": "stdout",
     "output_type": "stream",
     "text": [
      "<class 'list'>\n",
      "<class 'numpy.ndarray'>\n",
      "[1 2 3] int32\n"
     ]
    }
   ],
   "source": [
    "list1 = [1,2,3]\n",
    "print(type(list1))\n",
    "arr1 = np.array(list1)\n",
    "print(type(arr1))\n",
    "print(arr1, arr1.dtype)"
   ]
  },
  {
   "cell_type": "code",
   "execution_count": 6,
   "metadata": {},
   "outputs": [
    {
     "name": "stdout",
     "output_type": "stream",
     "text": [
      "['1' '2' 'test'] <U11\n",
      "[1. 2. 3.] float64\n"
     ]
    }
   ],
   "source": [
    "list2 = [1, 2, 'test'] # int32, string을 가진 list\n",
    "arr2 = np.array(list2)\n",
    "print(arr2, arr2.dtype)\n",
    "\n",
    "list3 = [1, 2, 3.0] # int32, float을 가진 list\n",
    "arr3 = np.array(list3)\n",
    "print(arr3, arr3.dtype)"
   ]
  },
  {
   "cell_type": "code",
   "execution_count": 7,
   "metadata": {},
   "outputs": [
    {
     "name": "stdout",
     "output_type": "stream",
     "text": [
      "[1. 2. 3.] float64\n",
      "[1 2 3] int32\n",
      "[1 2 3] int32\n"
     ]
    }
   ],
   "source": [
    "arr_int = np.array([1,2,3])\n",
    "arr_float = arr_int.astype('float64')\n",
    "print(arr_float, arr_float.dtype)\n",
    "\n",
    "arr_int1 = arr_float.astype('int32')\n",
    "print(arr_int1, arr_int1.dtype)\n",
    "\n",
    "arr_float1 = np.array([1.1, 2.1, 3.1])\n",
    "arr_int2 = arr_float1.astype('int32')\n",
    "print(arr_int2, arr_int2.dtype)"
   ]
  },
  {
   "cell_type": "code",
   "execution_count": 8,
   "metadata": {},
   "outputs": [
    {
     "name": "stdout",
     "output_type": "stream",
     "text": [
      "[0 1 2 3 4 5 6 7 8 9]\n",
      "int32 (10,)\n"
     ]
    }
   ],
   "source": [
    "sequence_arr = np.arange(10) # 0 to 9\n",
    "print(sequence_arr)\n",
    "print(sequence_arr.dtype, sequence_arr.shape)"
   ]
  },
  {
   "cell_type": "code",
   "execution_count": 9,
   "metadata": {},
   "outputs": [
    {
     "name": "stdout",
     "output_type": "stream",
     "text": [
      "[[0 0]\n",
      " [0 0]\n",
      " [0 0]]\n",
      "int32 (3, 2)\n",
      "[[1. 1.]\n",
      " [1. 1.]\n",
      " [1. 1.]]\n",
      "float64 (3, 2)\n"
     ]
    }
   ],
   "source": [
    "zero_arr = np.zeros((3,2), dtype='int32') # 2차원 row 3개, col 2개\n",
    "print(zero_arr)\n",
    "print(zero_arr.dtype, zero_arr.shape)\n",
    "\n",
    "one_arr = np.ones((3, 2)) # 2차원 row 3개, col 2개\n",
    "print(one_arr)\n",
    "print(one_arr.dtype, one_arr.shape)"
   ]
  },
  {
   "cell_type": "code",
   "execution_count": 10,
   "metadata": {},
   "outputs": [
    {
     "name": "stdout",
     "output_type": "stream",
     "text": [
      "arr1 : \n",
      " [0 1 2 3 4 5 6 7 8 9]\n",
      "arr2 : \n",
      " [[0 1 2 3 4]\n",
      " [5 6 7 8 9]]\n",
      "arr3 : \n",
      " [[0 1]\n",
      " [2 3]\n",
      " [4 5]\n",
      " [6 7]\n",
      " [8 9]]\n"
     ]
    }
   ],
   "source": [
    "arr1 = np.arange(10)\n",
    "print('arr1 : \\n', arr1)\n",
    "\n",
    "arr2 = arr1.reshape(2, 5)\n",
    "print('arr2 : \\n', arr2)\n",
    "\n",
    "arr3 = arr1.reshape(5, 2)\n",
    "print('arr3 : \\n', arr3)"
   ]
  },
  {
   "cell_type": "code",
   "execution_count": 11,
   "metadata": {},
   "outputs": [
    {
     "ename": "ValueError",
     "evalue": "cannot reshape array of size 10 into shape (4,3)",
     "output_type": "error",
     "traceback": [
      "\u001b[1;31m---------------------------------------------------------------------------\u001b[0m",
      "\u001b[1;31mValueError\u001b[0m                                Traceback (most recent call last)",
      "\u001b[1;32mc:\\Users\\Y\\Desktop\\my_worksapce\\MyPython\\machine_learning\\00_ndarray.ipynb 셀 10\u001b[0m in \u001b[0;36m<cell line: 1>\u001b[1;34m()\u001b[0m\n\u001b[1;32m----> <a href='vscode-notebook-cell:/c%3A/Users/Y/Desktop/my_worksapce/MyPython/machine_learning/00_ndarray.ipynb#X12sZmlsZQ%3D%3D?line=0'>1</a>\u001b[0m arr1\u001b[39m.\u001b[39;49mreshape(\u001b[39m4\u001b[39;49m,\u001b[39m3\u001b[39;49m)\n",
      "\u001b[1;31mValueError\u001b[0m: cannot reshape array of size 10 into shape (4,3)"
     ]
    }
   ],
   "source": [
    "arr1.reshape(4,3)"
   ]
  },
  {
   "cell_type": "code",
   "execution_count": null,
   "metadata": {},
   "outputs": [
    {
     "name": "stdout",
     "output_type": "stream",
     "text": [
      "[0 1 2 3 4 5 6 7 8 9]\n",
      "arr2 shape :  (2, 5)\n",
      "arr3 shape :  (5, 2)\n"
     ]
    }
   ],
   "source": [
    "arr1 = np.arange(10) # [0,1,2,3,4,5,6,7,8,9]\n",
    "print(arr1)\n",
    "\n",
    "arr2 = arr1.reshape(-1, 5) # row -1, col 5 -> col을 5로 row는 알아서\n",
    "print('arr2 shape : ', arr2.shape) # (2, 5)\n",
    "\n",
    "arr3 = arr1.reshape(5, -1) # row 5, col -1 -> row를 5로 col을 알아서\n",
    "print('arr3 shape : ', arr3.shape) # (5, 2)"
   ]
  },
  {
   "cell_type": "code",
   "execution_count": null,
   "metadata": {},
   "outputs": [
    {
     "name": "stdout",
     "output_type": "stream",
     "text": [
      "arr3d : \n",
      " [[[0, 1], [2, 3]], [[4, 5], [6, 7]]]\n",
      "arr5 : \n",
      " [[0], [1], [2], [3], [4], [5], [6], [7]]\n",
      "arr5 shape : (8, 1)\n",
      "arr6 : \n",
      " [[0], [1], [2], [3], [4], [5], [6], [7]]\n",
      "arr6 shape :  (8, 1)\n"
     ]
    }
   ],
   "source": [
    "arr1 = np.arange(8)\n",
    "arr3d = arr1.reshape((2, 2, 2))\n",
    "print(\"arr3d : \\n\", arr3d.tolist()) # ndarray to list\n",
    "\n",
    "# 3차원 ndarray를 2차원 ndarray로 변환\n",
    "arr5 = arr3d.reshape(-1, 1) # 2차원으로 변경\n",
    "print('arr5 : \\n', arr5.tolist())\n",
    "print('arr5 shape :', arr5.shape)\n",
    "\n",
    "# 1차원 ndarray를 2차원 ndarray로 변환\n",
    "arr6 = arr1.reshape(-1, 1)\n",
    "print('arr6 : \\n', arr6.tolist())\n",
    "print('arr6 shape : ', arr6.shape)\n"
   ]
  },
  {
   "cell_type": "code",
   "execution_count": null,
   "metadata": {},
   "outputs": [
    {
     "name": "stdout",
     "output_type": "stream",
     "text": [
      "arr :  [1 2 3 4 5 6 7 8 9]\n",
      "value :  3\n",
      "<class 'numpy.int32'>\n"
     ]
    }
   ],
   "source": [
    "# 1 to 9 1d ndarray create\n",
    "arr1 = np.arange(start=1, stop= 10)\n",
    "print('arr : ', arr1)\n",
    "\n",
    "# index is starting from 0\n",
    "value = arr1[2]\n",
    "print('value : ', value)\n",
    "print(type(value))"
   ]
  },
  {
   "cell_type": "code",
   "execution_count": null,
   "metadata": {},
   "outputs": [
    {
     "name": "stdout",
     "output_type": "stream",
     "text": [
      "[[1 2 3]\n",
      " [4 5 6]\n",
      " [7 8 9]]\n",
      "(row = 0, col = 0) index 가리키는 값 :  1\n",
      "(row = 0, col = 1) index 가리키는 값 :  2\n",
      "(row = 1, col = 0) index 가리키는 값 :  4\n",
      "(row = 2, col = 2) index 가리키는 값 :  9\n"
     ]
    }
   ],
   "source": [
    "arr1d = np.arange(start=1, stop=10)\n",
    "arr2d = arr1d.reshape(3, 3)\n",
    "print(arr2d)\n",
    "\n",
    "print('(row = 0, col = 0) index 가리키는 값 : ', arr2d[0,0])\n",
    "print('(row = 0, col = 1) index 가리키는 값 : ', arr2d[0,1])\n",
    "print('(row = 1, col = 0) index 가리키는 값 : ', arr2d[1,0])\n",
    "print('(row = 2, col = 2) index 가리키는 값 : ', arr2d[2,2])"
   ]
  },
  {
   "cell_type": "code",
   "execution_count": null,
   "metadata": {},
   "outputs": [
    {
     "name": "stdout",
     "output_type": "stream",
     "text": [
      "arr1 dtype :  int32\n",
      "type(arr1) :  <class 'numpy.ndarray'>\n",
      "arr3 :  [1 2 3]\n",
      "type(arr3) :  <class 'numpy.ndarray'>\n"
     ]
    }
   ],
   "source": [
    "arr1 = np.arange(start=1, stop=10)\n",
    "arr3 = arr1[0:3]\n",
    "print(\"arr1 dtype : \", arr1.dtype)\n",
    "print(\"type(arr1) : \", type(arr1))\n",
    "print('arr3 : ', arr3)\n",
    "print('type(arr3) : ', type(arr3))"
   ]
  },
  {
   "cell_type": "code",
   "execution_count": null,
   "metadata": {},
   "outputs": [
    {
     "name": "stdout",
     "output_type": "stream",
     "text": [
      "[1 2 3]\n",
      "[4 5 6 7 8 9]\n",
      "[1 2 3 4 5 6 7 8 9]\n"
     ]
    }
   ],
   "source": [
    "arr1 = np.arange(start=1, stop=10) # [1 2 3 4 5 6 7 8 9]\n",
    "arr4 = arr1[:3]\n",
    "print(arr4)\n",
    "\n",
    "arr5 = arr1[3:]\n",
    "print(arr5)\n",
    "\n",
    "arr6 = arr1[:]\n",
    "print(arr6)"
   ]
  },
  {
   "cell_type": "code",
   "execution_count": null,
   "metadata": {},
   "outputs": [
    {
     "name": "stdout",
     "output_type": "stream",
     "text": [
      "arr2d : \n",
      " [[1 2 3]\n",
      " [4 5 6]\n",
      " [7 8 9]]\n",
      "arr2d[0:2, 0:2] \n",
      " [[1 2]\n",
      " [4 5]]\n",
      "arr2d[1:3, 0:3] \n",
      " [[4 5 6]\n",
      " [7 8 9]]\n",
      "arr2d[1:3, :] \n",
      " [[4 5 6]\n",
      " [7 8 9]]\n",
      "arr2d[:, :] \n",
      " [[4 5 6]\n",
      " [7 8 9]]\n",
      "arr2d[:2, 1:] \n",
      " [[4 5 6]\n",
      " [7 8 9]]\n",
      "arr2d[:2, 0] \n",
      " [1 4]\n"
     ]
    }
   ],
   "source": [
    "arr1d = np.arange(start=1, stop= 10)\n",
    "arr2d = arr1d.reshape(3, 3)\n",
    "print('arr2d : \\n', arr2d)\n",
    "\n",
    "print('arr2d[0:2, 0:2] \\n', arr2d[0:2, 0:2])\n",
    "print('arr2d[1:3, 0:3] \\n', arr2d[1:3, 0:3])\n",
    "print('arr2d[1:3, :] \\n', arr2d[1:3, 0:3])\n",
    "print('arr2d[:, :] \\n', arr2d[1:3, 0:3])\n",
    "print('arr2d[:2, 1:] \\n', arr2d[1:3, 0:3])\n",
    "print('arr2d[:2, 0] \\n', arr2d[:2, 0])"
   ]
  },
  {
   "cell_type": "code",
   "execution_count": null,
   "metadata": {},
   "outputs": [
    {
     "name": "stdout",
     "output_type": "stream",
     "text": [
      "[1 2 3]\n",
      "[4 5 6]\n",
      "arr2d[0] shape:  (3,) arr2d[1] shape :  (3,)\n"
     ]
    }
   ],
   "source": [
    "print(arr2d[0])\n",
    "print(arr2d[1])\n",
    "print('arr2d[0] shape: ', arr2d[0].shape, 'arr2d[1] shape : ', arr2d[1].shape)"
   ]
  },
  {
   "cell_type": "code",
   "execution_count": null,
   "metadata": {},
   "outputs": [
    {
     "name": "stdout",
     "output_type": "stream",
     "text": [
      "arr2d[[0, 1], 2] =>  [[3, 6]]\n",
      "arr2d[[0, 1], 0:2] =>  [[1, 2], [4, 5]]\n",
      "arr2d[[0, 1]] =>  [[1, 2, 3], [4, 5, 6]]\n"
     ]
    }
   ],
   "source": [
    "arr1d = np.arange(start=1, stop=10)\n",
    "arr2d = arr1d.reshape(3, 3)\n",
    "\n",
    "arr3 = arr2d[[[0, 1]], 2]\n",
    "print('arr2d[[0, 1], 2] => ', arr3.tolist())\n",
    "\n",
    "arr4 = arr2d[[0, 1], 0:2]\n",
    "print('arr2d[[0, 1], 0:2] => ', arr4.tolist())\n",
    "\n",
    "arr5 = arr2d[[0, 1]]\n",
    "print('arr2d[[0, 1]] => ', arr5.tolist())"
   ]
  },
  {
   "cell_type": "code",
   "execution_count": null,
   "metadata": {},
   "outputs": [
    {
     "name": "stdout",
     "output_type": "stream",
     "text": [
      "arr1d > 5 불린 인덱싱 결과 값 :  [6 7 8 9]\n"
     ]
    }
   ],
   "source": [
    "arr1d = np.arange(start=1, stop=10)\n",
    "# [] 안에 arr1d > 5 Boolean indexing을 적용\n",
    "arr3 = arr1d[arr1d > 5]\n",
    "print('arr1d > 5 불린 인덱싱 결과 값 : ', arr3);"
   ]
  },
  {
   "cell_type": "code",
   "execution_count": null,
   "metadata": {},
   "outputs": [
    {
     "name": "stdout",
     "output_type": "stream",
     "text": [
      "불린 인덱스로 필터링 결과 :  [6 7 8 9]\n"
     ]
    }
   ],
   "source": [
    "boolean_indexes = np.array([False,False,False,False,False,True,True,True,True])\n",
    "arr3 = arr1d[boolean_indexes]\n",
    "print('불린 인덱스로 필터링 결과 : ', arr3)"
   ]
  },
  {
   "cell_type": "code",
   "execution_count": null,
   "metadata": {},
   "outputs": [
    {
     "name": "stdout",
     "output_type": "stream",
     "text": [
      "원본 행렬 :  [3 1 9 5]\n",
      "np.sort() 호출 후 반환된 정렬 행렬 :  [1 3 5 9]\n",
      "np.sort() 호출 후 원본 행렬 :  [3 1 9 5]\n",
      "org_arr.sort() 호출 후 반환된 행렬 :  None\n",
      "org_arr.sort() 호출 후 원본 행렬 :  [1 3 5 9]\n"
     ]
    }
   ],
   "source": [
    "# 행렬 정렬 = sort()와 argsort()\n",
    "org_arr = np.array([3, 1, 9, 5])\n",
    "print('원본 행렬 : ', org_arr)\n",
    "\n",
    "# np.sort() : 원 행렬은 유지되고 sort된 행렬을 return\n",
    "sort_arr1 = np.sort(org_arr)\n",
    "print('np.sort() 호출 후 반환된 정렬 행렬 : ', sort_arr1)\n",
    "print('np.sort() 호출 후 원본 행렬 : ', org_arr)\n",
    "\n",
    "# ndarray.sort() : 원 행렬은 sort되고 None을 return\n",
    "sort_arr2 = org_arr.sort()\n",
    "print('org_arr.sort() 호출 후 반환된 행렬 : ', sort_arr2)\n",
    "print('org_arr.sort() 호출 후 원본 행렬 : ', org_arr)"
   ]
  },
  {
   "cell_type": "code",
   "execution_count": null,
   "metadata": {},
   "outputs": [
    {
     "name": "stdout",
     "output_type": "stream",
     "text": [
      "내림차순으로 정렬 :  [9 5 3 1]\n"
     ]
    }
   ],
   "source": [
    "# 내림차순으로 정렬하고 싶을 때 [::-1]\n",
    "sort_arr1_desc = np.sort(org_arr)[::-1]\n",
    "print('내림차순으로 정렬 : ', sort_arr1_desc)"
   ]
  },
  {
   "cell_type": "code",
   "execution_count": 12,
   "metadata": {},
   "outputs": [
    {
     "name": "stdout",
     "output_type": "stream",
     "text": [
      "로우 방향으로 정렬:\n",
      " [[ 7  1]\n",
      " [ 8 12]]\n",
      "칼럼 방향으로 정렬:\n",
      " [[ 8 12]\n",
      " [ 1  7]]\n"
     ]
    }
   ],
   "source": [
    "arr2d = np.array([[8, 12], [7, 1]])\n",
    "\n",
    "sort_arr2d_axis0 = np.sort(arr2d, axis=0) # row방향으로 sort\n",
    "print('로우 방향으로 정렬:\\n', sort_arr2d_axis0)\n",
    "\n",
    "sort_arr2d_axis1 = np.sort(arr2d, axis=1) # col방향으로 sort\n",
    "print('칼럼 방향으로 정렬:\\n', sort_arr2d_axis1)"
   ]
  },
  {
   "cell_type": "code",
   "execution_count": 13,
   "metadata": {},
   "outputs": [
    {
     "name": "stdout",
     "output_type": "stream",
     "text": [
      "<class 'numpy.ndarray'>\n",
      "행렬 정렬 시 원본 행렬의 인덱스 :  [1 0 3 2]\n"
     ]
    }
   ],
   "source": [
    "org_arr = np.array([3, 1, 9, 5])\n",
    "sort_indices = np.argsort(org_arr) # 정렬 행본의 원본 행렬 인덱스를 ndarray형으로 return\n",
    "print(type(sort_indices))\n",
    "print('행렬 정렬 시 원본 행렬의 인덱스 : ', sort_indices)"
   ]
  },
  {
   "cell_type": "code",
   "execution_count": 14,
   "metadata": {},
   "outputs": [
    {
     "name": "stdout",
     "output_type": "stream",
     "text": [
      "행렬 내림차순 정렬 시 원본 행렬의 인덱스 :  [2 3 0 1]\n"
     ]
    }
   ],
   "source": [
    "org_arr = np.array([3, 1, 9, 5])\n",
    "sort_indices_desc = np.argsort(org_arr)[::-1]\n",
    "print('행렬 내림차순 정렬 시 원본 행렬의 인덱스 : ', sort_indices_desc)"
   ]
  },
  {
   "cell_type": "code",
   "execution_count": 15,
   "metadata": {},
   "outputs": [
    {
     "name": "stdout",
     "output_type": "stream",
     "text": [
      "성적 오름차순 정렬시 score_arr의 인덱스: [0 2 4 1 3]\n",
      "성적 오름차순으로 name_arr의 이름 출력 :  ['John' 'Sarah' 'Samuel' 'Mike' 'Kate']\n"
     ]
    }
   ],
   "source": [
    "import numpy as np\n",
    "\n",
    "name_arr = np.array( ['John',  'Mike', 'Sarah', 'Kate', 'Samuel'])\n",
    "score_arr = np.array([78, 95, 84, 98, 88])\n",
    "\n",
    "sort_indices_asc = np.argsort(score_arr)\n",
    "print('성적 오름차순 정렬시 score_arr의 인덱스:', sort_indices_asc)\n",
    "print('성적 오름차순으로 name_arr의 이름 출력 : ', name_arr[sort_indices_asc])"
   ]
  },
  {
   "cell_type": "code",
   "execution_count": 17,
   "metadata": {},
   "outputs": [
    {
     "name": "stdout",
     "output_type": "stream",
     "text": [
      "행렬 내적 결과: \n",
      " [[ 58  64]\n",
      " [139 154]]\n"
     ]
    }
   ],
   "source": [
    "A = np.array([[1, 2, 3],\n",
    "            [4, 5, 6]])\n",
    "B = np.array([[7, 8],\n",
    "            [9, 10],\n",
    "            [11, 12]])\n",
    "\n",
    "dot_product = np.dot(A, B)\n",
    "print('행렬 내적 결과: \\n', dot_product)\n"
   ]
  },
  {
   "cell_type": "code",
   "execution_count": 18,
   "metadata": {},
   "outputs": [
    {
     "name": "stdout",
     "output_type": "stream",
     "text": [
      "A의 전치 행렬: \n",
      " [[1 3]\n",
      " [2 4]]\n"
     ]
    }
   ],
   "source": [
    "A = np.array([ [1, 2] ,\n",
    "                [3, 4] ] )\n",
    "transpose_mat = np.transpose(A)\n",
    "print('A의 전치 행렬: \\n', transpose_mat)"
   ]
  }
 ],
 "metadata": {
  "kernelspec": {
   "display_name": "Python 3.9.12 ('base')",
   "language": "python",
   "name": "python3"
  },
  "language_info": {
   "codemirror_mode": {
    "name": "ipython",
    "version": 3
   },
   "file_extension": ".py",
   "mimetype": "text/x-python",
   "name": "python",
   "nbconvert_exporter": "python",
   "pygments_lexer": "ipython3",
   "version": "3.9.12"
  },
  "orig_nbformat": 4,
  "vscode": {
   "interpreter": {
    "hash": "ad2bdc8ecc057115af97d19610ffacc2b4e99fae6737bb82f5d7fb13d2f2c186"
   }
  }
 },
 "nbformat": 4,
 "nbformat_minor": 2
}
