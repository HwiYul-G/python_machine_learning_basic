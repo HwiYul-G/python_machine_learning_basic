{
 "cells": [
  {
   "cell_type": "code",
   "execution_count": 1,
   "metadata": {},
   "outputs": [],
   "source": [
    "# 순차적인 신경망을 구성할 때 사용할 수 있는 함수가 케라스의 모델 도구(models) 중 시퀀셜 모델(Sequential)함수\n",
    "from tensorflow.keras.models import Sequential\n",
    "\n",
    "# 레이어 도구(layers) 중 Dense와 Activation 도구를 불러오는 명령어.\n",
    "# Dense는 전결합층(fully connected layer)를 의미함. \n",
    "# 입력측, 은닉층, 출력층과 같은 각각의 층들이 바로 앞의 층과 연결되어 있는 것을 전결합층이라고 한다.\n",
    "from tensorflow.keras.layers import Dense, Activation\n",
    "\n",
    "# 유틸 도구(utils) 중 to_categorical 함수를 불러오는 명령어\n",
    "# 우리가 만들 인공지능 모델은 0부터 9사이에 있는 숫자 이미지를 구별하는 AI이다. (-> 다중분류 )\n",
    "# 이때 이미지를 잘 학습하기 위한 방법 중 하나로 원-핫 인코딩을 사용한다.\n",
    "# 이 원-핫 인코딩을 구현할 수 있는 함수가 to_categorical 함수이다.\n",
    "from tensorflow.keras.utils import to_categorical\n",
    "\n",
    "# 케라스를 사용해 딥러닝 모델 개발을 연습할 수 잇는 여러 데이터셋을 제공함 그중 mnist 데이터셋을 불러옴\n",
    "from tensorflow.keras.datasets import mnist\n",
    "\n",
    "import numpy as np \n",
    "import matplotlib.pyplot as plt"
   ]
  },
  {
   "cell_type": "code",
   "execution_count": null,
   "metadata": {},
   "outputs": [],
   "source": []
  }
 ],
 "metadata": {
  "kernelspec": {
   "display_name": "Python 3.9.12 64-bit",
   "language": "python",
   "name": "python3"
  },
  "language_info": {
   "codemirror_mode": {
    "name": "ipython",
    "version": 3
   },
   "file_extension": ".py",
   "mimetype": "text/x-python",
   "name": "python",
   "nbconvert_exporter": "python",
   "pygments_lexer": "ipython3",
   "version": "3.9.12"
  },
  "orig_nbformat": 4,
  "vscode": {
   "interpreter": {
    "hash": "25a19fbe0a9132dfb9279d48d161753c6352f8f9478c2e74383d340069b907c3"
   }
  }
 },
 "nbformat": 4,
 "nbformat_minor": 2
}
